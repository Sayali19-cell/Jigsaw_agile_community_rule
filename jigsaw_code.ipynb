{
 "cells": [
  {
   "cell_type": "code",
   "execution_count": 1,
   "id": "7189d270",
   "metadata": {},
   "outputs": [
    {
     "name": "stdout",
     "output_type": "stream",
     "text": [
      "Train shape: (2029, 9)\n",
      "Test shape: (10, 8)\n",
      "   row_id                                               body  \\\n",
      "0       0  Banks don't want you to know this! Click here ...   \n",
      "1       1  SD Stream [ ENG Link 1] (http://www.sportsstre...   \n",
      "2       2  Lol. Try appealing the ban and say you won't d...   \n",
      "3       3  she will come your home open her legs with  an...   \n",
      "4       4  code free tyrande --->>> [Imgur](http://i.imgu...   \n",
      "\n",
      "                                                rule      subreddit  \\\n",
      "0  No Advertising: Spam, referral links, unsolici...     Futurology   \n",
      "1  No Advertising: Spam, referral links, unsolici...  soccerstreams   \n",
      "2  No legal advice: Do not offer or request legal...   pcmasterrace   \n",
      "3  No Advertising: Spam, referral links, unsolici...            sex   \n",
      "4  No Advertising: Spam, referral links, unsolici...    hearthstone   \n",
      "\n",
      "                                  positive_example_1  \\\n",
      "0  If you could tell your younger self something ...   \n",
      "1  [I wanna kiss you all over! Stunning!](http://...   \n",
      "2  Don't break up with him or call the cops.  If ...   \n",
      "3  Selling Tyrande codes for 3€ to paypal. PM. \\n...   \n",
      "4   wow!! amazing reminds me of the old days.Well...   \n",
      "\n",
      "                                  positive_example_2  \\\n",
      "0  hunt for lady for jack off in neighbourhood ht...   \n",
      "1  LOLGA.COM is One of the First Professional Onl...   \n",
      "2  It'll be dismissed: https://en.wikipedia.org/w...   \n",
      "3  tight pussy watch for your cock get her at thi...   \n",
      "4  seek for lady for sex in around http://p77.pl/...   \n",
      "\n",
      "                                  negative_example_1  \\\n",
      "0  Watch Golden Globe Awards 2017 Live Online in ...   \n",
      "1  #Rapper \\n🚨Straight Outta Cross Keys SC 🚨YouTu...   \n",
      "2  Where is there a site that still works where y...   \n",
      "3  NSFW(obviously) http://spankbang.com/iy3u/vide...   \n",
      "4  must be watch movie https://sites.google.com/s...   \n",
      "\n",
      "                                  negative_example_2  rule_violation  \n",
      "0  DOUBLE CEE x BANDS EPPS - \"BIRDS\"\\n\\nDOWNLOAD/...               0  \n",
      "1  [15 Amazing Hidden Features Of Google Search Y...               0  \n",
      "2  Because this statement of his is true. It isn'...               1  \n",
      "3  Good News ::Download WhatsApp 2.16.230 APK for...               1  \n",
      "4  We're streaming Pokemon Veitnamese Crystal RIG...               1  \n"
     ]
    }
   ],
   "source": [
    "import pandas as pd\n",
    "\n",
    "# Load train and test\n",
    "train_df = pd.read_csv(\"train.csv\")\n",
    "test_df = pd.read_csv(\"test.csv\")\n",
    "\n",
    "print(\"Train shape:\", train_df.shape)\n",
    "print(\"Test shape:\", test_df.shape)\n",
    "\n",
    "# Peek into data\n",
    "print(train_df.head())\n"
   ]
  },
  {
   "cell_type": "code",
   "execution_count": 2,
   "id": "55447b6d",
   "metadata": {},
   "outputs": [],
   "source": [
    "# Features and target from train set\n",
    "X_train = train_df[[\"body\", \"subreddit\", \"rule\"]]\n",
    "y_train = train_df[\"rule_violation\"]\n",
    "\n",
    "# Test set (no labels)\n",
    "X_test = test_df[[\"body\", \"subreddit\", \"rule\"]]\n"
   ]
  },
  {
   "cell_type": "code",
   "execution_count": 3,
   "id": "46c30665",
   "metadata": {},
   "outputs": [
    {
     "name": "stdout",
     "output_type": "stream",
     "text": [
      "Train TF-IDF shape: (2029, 8350)\n",
      "Test TF-IDF shape: (10, 8350)\n"
     ]
    }
   ],
   "source": [
    "from sklearn.feature_extraction.text import TfidfVectorizer\n",
    "\n",
    "# Vectorize 'body' text\n",
    "vectorizer = TfidfVectorizer(stop_words=\"english\", max_features=10000)\n",
    "\n",
    "X_train_tfidf = vectorizer.fit_transform(X_train[\"body\"])\n",
    "X_test_tfidf = vectorizer.transform(X_test[\"body\"])\n",
    "\n",
    "print(\"Train TF-IDF shape:\", X_train_tfidf.shape)\n",
    "print(\"Test TF-IDF shape:\", X_test_tfidf.shape)\n"
   ]
  },
  {
   "cell_type": "code",
   "execution_count": 4,
   "id": "df795ba5",
   "metadata": {},
   "outputs": [],
   "source": [
    "from sklearn.linear_model import LogisticRegression\n",
    "\n",
    "# Train model\n",
    "clf = LogisticRegression(max_iter=500)\n",
    "clf.fit(X_train_tfidf, y_train)\n",
    "\n",
    "# Predict on test\n",
    "y_pred = clf.predict(X_test_tfidf)\n",
    "\n",
    "# If you have test labels, you can evaluate:\n",
    "# from sklearn.metrics import classification_report\n",
    "# print(classification_report(y_test, y_pred))\n"
   ]
  },
  {
   "cell_type": "code",
   "execution_count": 5,
   "id": "1e7e0228",
   "metadata": {},
   "outputs": [],
   "source": [
    "# Attach predictions to test set\n",
    "test_df[\"predicted_rule_violation\"] = y_pred\n",
    "\n",
    "# Save to CSV\n",
    "test_df.to_csv(\"test_with_predictions.csv\", index=False)\n"
   ]
  },
  {
   "cell_type": "code",
   "execution_count": null,
   "id": "cf88a7d9",
   "metadata": {},
   "outputs": [],
   "source": []
  }
 ],
 "metadata": {
  "kernelspec": {
   "display_name": "base",
   "language": "python",
   "name": "python3"
  },
  "language_info": {
   "codemirror_mode": {
    "name": "ipython",
    "version": 3
   },
   "file_extension": ".py",
   "mimetype": "text/x-python",
   "name": "python",
   "nbconvert_exporter": "python",
   "pygments_lexer": "ipython3",
   "version": "3.12.7"
  }
 },
 "nbformat": 4,
 "nbformat_minor": 5
}
